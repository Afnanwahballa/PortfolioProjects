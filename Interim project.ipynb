{
 "cells": [
  {
   "cell_type": "markdown",
   "id": "df7d1c20",
   "metadata": {},
   "source": [
    "# Interim project"
   ]
  },
  {
   "cell_type": "markdown",
   "id": "e61e3c78",
   "metadata": {},
   "source": [
    "# Importing/installing packages"
   ]
  },
  {
   "cell_type": "code",
   "execution_count": 24,
   "id": "8fd7c53c",
   "metadata": {},
   "outputs": [],
   "source": [
    " #provides functions for interacting with the operating system \n",
    "import numpy as np\n",
    "import pandas as pd\n",
    "from matplotlib import pyplot as plt \n",
    "import seaborn as sns\n",
    "\n",
    "%matplotlib inline\n",
    "\n",
    "np.set_printoptions(formatter={'float_kind': '{:f}'.format})\n",
    "\n",
    "#to increase the size of sns plots\n",
    "sns.set(rc={'figure.figsize':(8,6)})\n",
    "\n",
    "#ARIMA \n",
    "from statsmodels.tsa.arima_model import ARIMA\n",
    "from statsmodels.tsa.api import ExponentialSmoothing, SimpleExpSmoothing, Holt\n",
    "import pmdarima as pm\n",
    "from pmdarima.model_selection import train_test_split\n",
    "import itertools\n",
    "import warnings\n",
    "warnings.filterwarnings('ignore')\n",
    "\n",
    "#installing auto arima\n",
    "#pip install--user pmdarima"
   ]
  },
  {
   "cell_type": "code",
   "execution_count": 9,
   "id": "7db0f5c7",
   "metadata": {},
   "outputs": [
    {
     "name": "stdout",
     "output_type": "stream",
     "text": [
      "Requirement already satisfied: pypyodbc in c:\\users\\afnan\\anaconda3\\lib\\site-packages (1.3.6)\n",
      "Requirement already satisfied: setuptools in c:\\users\\afnan\\anaconda3\\lib\\site-packages (from pypyodbc) (63.4.1)\n",
      "Note: you may need to restart the kernel to use updated packages.\n"
     ]
    }
   ],
   "source": [
    "pip install pypyodbc\n"
   ]
  },
  {
   "cell_type": "code",
   "execution_count": 25,
   "id": "e1c16f5e",
   "metadata": {},
   "outputs": [
    {
     "data": {
      "text/html": [
       "<div>\n",
       "<style scoped>\n",
       "    .dataframe tbody tr th:only-of-type {\n",
       "        vertical-align: middle;\n",
       "    }\n",
       "\n",
       "    .dataframe tbody tr th {\n",
       "        vertical-align: top;\n",
       "    }\n",
       "\n",
       "    .dataframe thead th {\n",
       "        text-align: right;\n",
       "    }\n",
       "</style>\n",
       "<table border=\"1\" class=\"dataframe\">\n",
       "  <thead>\n",
       "    <tr style=\"text-align: right;\">\n",
       "      <th></th>\n",
       "      <th>name</th>\n",
       "      <th>salesytd</th>\n",
       "      <th>saleslastyear</th>\n",
       "    </tr>\n",
       "  </thead>\n",
       "  <tbody>\n",
       "    <tr>\n",
       "      <th>0</th>\n",
       "      <td>Northwest</td>\n",
       "      <td>7887186.79</td>\n",
       "      <td>3298694.49</td>\n",
       "    </tr>\n",
       "    <tr>\n",
       "      <th>1</th>\n",
       "      <td>Northeast</td>\n",
       "      <td>2402176.85</td>\n",
       "      <td>3607148.94</td>\n",
       "    </tr>\n",
       "    <tr>\n",
       "      <th>2</th>\n",
       "      <td>Central</td>\n",
       "      <td>3072175.12</td>\n",
       "      <td>3205014.08</td>\n",
       "    </tr>\n",
       "    <tr>\n",
       "      <th>3</th>\n",
       "      <td>Southwest</td>\n",
       "      <td>10510853.87</td>\n",
       "      <td>5366575.71</td>\n",
       "    </tr>\n",
       "    <tr>\n",
       "      <th>4</th>\n",
       "      <td>Southeast</td>\n",
       "      <td>2538667.25</td>\n",
       "      <td>3925071.43</td>\n",
       "    </tr>\n",
       "  </tbody>\n",
       "</table>\n",
       "</div>"
      ],
      "text/plain": [
       "        name     salesytd  saleslastyear\n",
       "0  Northwest   7887186.79     3298694.49\n",
       "1  Northeast   2402176.85     3607148.94\n",
       "2    Central   3072175.12     3205014.08\n",
       "3  Southwest  10510853.87     5366575.71\n",
       "4  Southeast   2538667.25     3925071.43"
      ]
     },
     "execution_count": 25,
     "metadata": {},
     "output_type": "execute_result"
    }
   ],
   "source": [
    "########### Getting the file from sql server#################\n",
    "\n",
    "import pypyodbc as podbc\n",
    "\n",
    "conn2 = podbc.connect(\"Driver= {SQL Server Native Client 11.0};\"\n",
    "                      \"Server=LAPTOP-AOP7F2HP;\"\n",
    "                      \"Database=AdventureWorks2019;\"\n",
    "                      \"Trusted_Connection=yes;\")\n",
    "\n",
    "#rynning the SQL qurey i need\n",
    "\n",
    "SQL_Query=pd.read_sql_query ('''SELECT * FROM [dbo].[RegionalSales]''', conn2)\n",
    "\n",
    "#conn.close()\n",
    "\n",
    "#Viz\n",
    "SQL_Query.head()"
   ]
  },
  {
   "cell_type": "code",
   "execution_count": 23,
   "id": "02f9de2d",
   "metadata": {},
   "outputs": [
    {
     "name": "stdout",
     "output_type": "stream",
     "text": [
      "Note: you may need to restart the kernel to use updated packages.\n"
     ]
    },
    {
     "name": "stderr",
     "output_type": "stream",
     "text": [
      "ERROR: Could not find a version that satisfies the requirement OS (from versions: none)\n",
      "ERROR: No matching distribution found for OS\n"
     ]
    }
   ],
   "source": [
    "\n"
   ]
  },
  {
   "cell_type": "code",
   "execution_count": null,
   "id": "9b2d2060",
   "metadata": {},
   "outputs": [],
   "source": []
  }
 ],
 "metadata": {
  "kernelspec": {
   "display_name": "Python 3 (ipykernel)",
   "language": "python",
   "name": "python3"
  },
  "language_info": {
   "codemirror_mode": {
    "name": "ipython",
    "version": 3
   },
   "file_extension": ".py",
   "mimetype": "text/x-python",
   "name": "python",
   "nbconvert_exporter": "python",
   "pygments_lexer": "ipython3",
   "version": "3.9.13"
  }
 },
 "nbformat": 4,
 "nbformat_minor": 5
}
